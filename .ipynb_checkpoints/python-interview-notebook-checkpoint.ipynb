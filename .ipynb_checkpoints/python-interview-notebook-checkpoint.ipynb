{
 "cells": [
  {
   "cell_type": "markdown",
   "metadata": {},
   "source": [
    "### 1.1\n",
    "What is the value of $\\sqrt{2}^{\\sqrt{2}^{{\\sqrt{2}^{...}}}}$?\n",
    "\n",
    "Below is the solution using Python."
   ]
  },
  {
   "cell_type": "code",
   "execution_count": 1,
   "metadata": {
    "collapsed": false
   },
   "outputs": [
    {
     "name": "stdout",
     "output_type": "stream",
     "text": [
      "2.0\n"
     ]
    }
   ],
   "source": [
    "import numpy as np\n",
    "n=np.sqrt(2)\n",
    "for i in range(10000):\n",
    "    n=np.sqrt(2)**n\n",
    "print(n)"
   ]
  },
  {
   "cell_type": "markdown",
   "metadata": {
    "collapsed": false
   },
   "source": [
    "### 1.2\n",
    "What is the value of ${x}^{{x}^{{{x}^{...}}}}$=2?\n"
   ]
  },
  {
   "cell_type": "markdown",
   "metadata": {
    "collapsed": false
   },
   "source": [
    "Answer:${x}^{{x}^{{{x}^{...}}}}=y$,  ${x}^{y}=y$,  $y^{1/y}=x$,  $x=\\sqrt{2}$"
   ]
  },
  {
   "cell_type": "markdown",
   "metadata": {},
   "source": [
    "### 3.1\n",
    "You have a bag with two coins. One will come up heads 40% of the time, and the other will come up heads 60%. You pick a coin randomly, flip it and get a head. What is the probability it will be heads on the next flip?"
   ]
  },
  {
   "cell_type": "code",
   "execution_count": 86,
   "metadata": {
    "collapsed": false
   },
   "outputs": [
    {
     "name": "stdout",
     "output_type": "stream",
     "text": [
      "(0.5219885277246654, 523, 273)\n"
     ]
    }
   ],
   "source": [
    "import math\n",
    "import random as rnd\n",
    "head1=0\n",
    "head2=0\n",
    "#for n in range(0,1000):\n",
    "#    coin1=math.floor(rnd.random()/0.6)\n",
    "#    head += coin1\n",
    "firstFlipIsAHeadCounter = 0\n",
    "secondFlipIsAHeadCounter = 0\n",
    "for trialCtr in range(0,1000):\n",
    "    if rnd.random() < 0.5: #reach into bag, and grab either coin\n",
    "        probTail = 0.6# head 40% of the time\n",
    "    else:\n",
    "        probTail = 0.4# head 60% of the time\n",
    "    coin1 = headsOrTails(probTail)\n",
    "    if coin1>0.5:\n",
    "        head1 += coin1\n",
    "        coin2 = headsOrTails(probTail)\n",
    "        head2 += coin2\n",
    "print (float(head2)/float(head1),head1,head2)\n",
    "\n",
    "def headsOrTails(probTail):\n",
    "    if rnd.random()< probTail:\n",
    "        return 0\n",
    "    return 1 #head\n"
   ]
  },
  {
   "cell_type": "markdown",
   "metadata": {},
   "source": [
    "### 3.1 Objected-oriented version\n",
    "\n",
    "Here we solve the same problem, but introducing objects to python.\n",
    "\n",
    "A simplistic approach to OO design is to identify the nouns in the problem description, and consider those to be potential \"classes\". A class is a templete, sort of like a cookie cutter for stampling out identical objects ready for  use.\n",
    "\n",
    "In this problem, we see **coin** and **purse** in the problem description. So let's make them into class.\n",
    "\n",
    "The \"method\" of a class represent the action we expect of the objects created from the class.\n"
   ]
  },
  {
   "cell_type": "code",
   "execution_count": 62,
   "metadata": {
    "collapsed": false
   },
   "outputs": [
    {
     "name": "stdout",
     "output_type": "stream",
     "text": [
      "0.5\n"
     ]
    }
   ],
   "source": [
    "import random as rnd\n",
    "import numpy as np\n",
    "class Coin(object): #we capitalize the names of classes. \n",
    "    #almost always define a constructor, so  that we can \n",
    "    #create instances(objects)of Coins\n",
    "    def __init__(self,probHeads):\n",
    "        self.probHeads = probHeads\n",
    "    \n",
    "    def flipIsHead(self):\n",
    "        return np.random.random() < self.probHeads\n",
    "    \n",
    "    def nextNFlipsAreHeads(self,n):\n",
    "        for i in range(n):\n",
    "            if not self.flipIsHead():\n",
    "                return False\n",
    "        return True\n",
    "            \n",
    "class CoinBag(object):\n",
    "    def __init__(self):\n",
    "        self.coins = []\n",
    "        \n",
    "    def addCoin(self, coin):\n",
    "        self.coins.append(coin)\n",
    "    \n",
    "    def pickRandomCoin(self):\n",
    "        return np.random.choice(self.coins)\n",
    "\n",
    "cb = CoinBag()\n",
    "cb.addCoin(Coin(0.6))\n",
    "cb.addCoin(Coin(0.4))\n",
    "\n",
    "#print cb.pickRandomCoin().probHeads\n",
    "firstFlipIsAHeadCounter = 0\n",
    "secondFlipIsAHeadCounter = 0\n",
    "for trialCtr in range(0,1000):\n",
    "    randomcoin= cb.pickRandomCoin()\n",
    "    if randomcoin.flipIsHead():\n",
    "        firstFlipIsAHeadCounter +=1\n",
    "        if randomcoin.flipIsHead():\n",
    "            secondFlipIsAHeadCounter +=1\n",
    "print (float(secondFlipIsAHeadCounter)/float(firstFlipIsAHeadCounter))\n",
    "\n",
    "\n",
    "\n",
    "\n"
   ]
  },
  {
   "cell_type": "markdown",
   "metadata": {},
   "source": [
    "## 3.1\n",
    "In front of you is a jar of 1000 coins. One of the coins has two heads, and the rest are fair coins. You choose a coin at random, and flip it ten times, getting all heads. What is the probability it is one of the fair coins?"
   ]
  },
  {
   "cell_type": "code",
   "execution_count": 64,
   "metadata": {
    "collapsed": false
   },
   "outputs": [
    {
     "name": "stdout",
     "output_type": "stream",
     "text": [
      "(0.4993788819875776, 402, 403)\n"
     ]
    }
   ],
   "source": [
    "cb= CoinBag()\n",
    "cb.addCoin(Coin(1))\n",
    "#for i in range(999):\n",
    "#    cb.addCoin(Coin(0.5))\n",
    "[cb.addCoin(Coin(0.5)) for n in range(0,999)]\n",
    "\n",
    "for i in range(10000):\n",
    "    randomcoin= cb.pickRandomCoin()\n",
    "    if randomcoin.probHeads==1:\n",
    "        count1 +=1\n",
    "    else:\n",
    "        if randomcoin.nextNFlipsAreHeads(10):\n",
    "            count2 +=1\n",
    "            \n",
    "print (float(count1)/(count1+count2),count1,count2)   \n",
    "    "
   ]
  },
  {
   "cell_type": "markdown",
   "metadata": {},
   "source": [
    "### Monte Hall Problem\n",
    "\n",
    "You are a conteseant on a game show. You have 3 doors in front of you. Behind two of the doors are goats. Unattractive goats. Behind the other door is a brand new Tesla. The game show host asks you to choose a door. After you do, he opens one of the remaining doors, and there stands a goat. The game show that host asks you if you'd like yo switch doors. What do you do?"
   ]
  },
  {
   "cell_type": "markdown",
   "metadata": {},
   "source": []
  },
  {
   "cell_type": "markdown",
   "metadata": {},
   "source": [
    "### 3.5\n",
    "Starting at one vertex of a cube, and moving randomly from vertex to adjacent vertices, what is the expected number of moves until you reach the  vertex opposite from your starting point?"
   ]
  },
  {
   "cell_type": "code",
   "execution_count": 36,
   "metadata": {
    "collapsed": false
   },
   "outputs": [
    {
     "data": {
      "text/plain": [
       "24619.771660649818"
      ]
     },
     "execution_count": 36,
     "metadata": {},
     "output_type": "execute_result"
    }
   ],
   "source": [
    "#WRONG ANSWER\n",
    "import random as rnd\n",
    "import numpy as np\n",
    "step=np.zeros([1,1])\n",
    "sum=0\n",
    "j=0\n",
    "for i in range(1000000000):\n",
    "    if rnd.random()< 0.5:\n",
    "        go=-1\n",
    "    else:\n",
    "        go=1\n",
    "    sum=sum+go;\n",
    "    if sum==3:\n",
    "        step=np.append(step,i-j)\n",
    "        j=i\n",
    "        sum=0\n",
    "np.mean(step)"
   ]
  },
  {
   "cell_type": "markdown",
   "metadata": {
    "collapsed": false
   },
   "source": [
    "start from A, second step B, third step C, destination D.\n",
    "transaction grap. \n",
    "Take first step to B. Two moves transaction grap only have B and D.\n",
    "Then we could calculate the expected exit moves(10)."
   ]
  },
  {
   "cell_type": "markdown",
   "metadata": {},
   "source": [
    "### 3.8\n",
    "You have a spinner that generates random numbers that are uniform between 0 and 1. You sum the spins until the sum is greater than one. What is the expected number of spins?"
   ]
  },
  {
   "cell_type": "code",
   "execution_count": 3,
   "metadata": {
    "collapsed": false
   },
   "outputs": [
    {
     "name": "stdout",
     "output_type": "stream",
     "text": [
      "2.65\n",
      "Populating the interactive namespace from numpy and matplotlib\n"
     ]
    },
    {
     "data": {
      "text/plain": [
       "(array([ 0.69333333,  0.42666667,  0.17333333,  0.04      ]),\n",
       " array([ 2.  ,  2.75,  3.5 ,  4.25,  5.  ]),\n",
       " <a list of 4 Patch objects>)"
      ]
     },
     "execution_count": 3,
     "metadata": {},
     "output_type": "execute_result"
    },
    {
     "data": {
      "image/png": "[encoded data removed]",
      "text/plain": [
       "<matplotlib.figure.Figure at 0x103d65d90>"
      ]
     },
     "metadata": {},
     "output_type": "display_data"
    }
   ],
   "source": [
    "import numpy as np\n",
    "class Spinner(object):\n",
    "    def __init__(self):\n",
    "        self.total = 0\n",
    "        self.spincountr = 0\n",
    "    \n",
    "    def spin(self):\n",
    "        self.total +=np.random.random()\n",
    "        self.spincountr += 1\n",
    "    \n",
    "    def reset(self):\n",
    "        self.total = 0\n",
    "        self.spincountr = 0\n",
    "    \n",
    "    def spinUnitFrenaterThanOne(self):\n",
    "        while self.total < 1:\n",
    "            self.spin()\n",
    "        answer=self.spincountr\n",
    "        self.reset()\n",
    "        return answer\n",
    "spinner = Spinner()\n",
    "n=100\n",
    "num=0\n",
    "for i in range(n):\n",
    "    num +=spinner.spinUnitFrenaterThanOne()\n",
    "print (float(num)/n)\n",
    "trails = [spinner.spinUnitFrenaterThanOne() for n in range(n)] \n",
    "import matplotlib.pyplot as plt\n",
    "numbins=max(trails)-min(trails)+1\n",
    "%pylab inline\n",
    "plt.hist(trails,bins=numbins,normed=True, align='left',rwidth=0.3)"
   ]
  },
  {
   "cell_type": "code",
   "execution_count": 84,
   "metadata": {
    "collapsed": false
   },
   "outputs": [
    {
     "data": {
      "text/plain": [
       "2.7114184974233795"
      ]
     },
     "execution_count": 84,
     "metadata": {},
     "output_type": "execute_result"
    }
   ],
   "source": [
    "import numpy as np\n",
    "sum=0\n",
    "j=0\n",
    "step=np.zeros([1,1])\n",
    "for i in range(10000):\n",
    "    sum=sum+rnd.random()\n",
    "    if sum > 1:\n",
    "        step=np.append(step,i-j)\n",
    "        j=i\n",
    "        sum=0\n",
    "np.mean(step)"
   ]
  },
  {
   "cell_type": "markdown",
   "metadata": {},
   "source": [
    "### 4.4\n",
    "You have a basket of $n$ assets. The asset returns are multivariate normal with zero mean. Correlation between any pair of assets is 1/2. What is the probability that $k$ of the assets will have positive return?"
   ]
  },
  {
   "cell_type": "code",
   "execution_count": null,
   "metadata": {
    "collapsed": false
   },
   "outputs": [],
   "source": []
  },
  {
   "cell_type": "markdown",
   "metadata": {},
   "source": [
    "### 3.10\n",
    "A stick is broken randomly into 3 pieces. What is the probability of the pieces being able to form a triangle?"
   ]
  },
  {
   "cell_type": "code",
   "execution_count": 11,
   "metadata": {
    "collapsed": false
   },
   "outputs": [
    {
     "data": {
      "text/plain": [
       "0.19197"
      ]
     },
     "execution_count": 11,
     "metadata": {},
     "output_type": "execute_result"
    }
   ],
   "source": [
    "import random as rnd\n",
    "count=0\n",
    "n=100000\n",
    "for i in range(n):\n",
    "    a=rnd.random()\n",
    "    b=rnd.random()*(1-a)\n",
    "    c=1-a-b\n",
    "    if a+b>c and b+c>a and c+a>b:\n",
    "        count += 1\n",
    "float(count)/n\n"
   ]
  },
  {
   "cell_type": "markdown",
   "metadata": {},
   "source": [
    "### 5.10\n",
    "Suppose there are 36 students in the QFRM program, each assigned a unique integer from 1 to 36. Thirty-six quarters are laid out on a table in a row, heads up. Each student goes to the table, and if they are assigned the number $n$, they turn over the $n$th coin, the $2n$th coin, and so on. So, for example, the student who is assigned 15 will turn over the 15th and 30th coins. When everyone is done, how many tails are showing?"
   ]
  },
  {
   "cell_type": "code",
   "execution_count": null,
   "metadata": {
    "collapsed": false
   },
   "outputs": [],
   "source": []
  },
  {
   "cell_type": "markdown",
   "metadata": {},
   "source": [
    "### 3.11\n",
    "A stick is broken randomly into two pieces. The larger piece is then broken randomly into two pieces. What is the probability of the pieces being able to form a triangle?"
   ]
  },
  {
   "cell_type": "code",
   "execution_count": 70,
   "metadata": {
    "collapsed": false
   },
   "outputs": [
    {
     "data": {
      "text/plain": [
       "0.38726"
      ]
     },
     "execution_count": 70,
     "metadata": {},
     "output_type": "execute_result"
    }
   ],
   "source": [
    "import random as rnd\n",
    "count=0\n",
    "n=100000\n",
    "for i in range(n):\n",
    "    a=rnd.random()\n",
    "    a=min(a,1-a)\n",
    "    b=rnd.random()*(1-a)\n",
    "    c=1-a-b\n",
    "    if a+b>c and b+c>a and c+a>b:\n",
    "        count += 1\n",
    "float(count)/n"
   ]
  }
 ],
 "metadata": {
  "anaconda-cloud": {},
  "kernelspec": {
   "display_name": "Python [Root]",
   "language": "python",
   "name": "Python [Root]"
  },
  "language_info": {
   "codemirror_mode": {
    "name": "ipython",
    "version": 2
   },
   "file_extension": ".py",
   "mimetype": "text/x-python",
   "name": "python",
   "nbconvert_exporter": "python",
   "pygments_lexer": "ipython2",
   "version": "2.7.12"
  }
 },
 "nbformat": 4,
 "nbformat_minor": 0
}
